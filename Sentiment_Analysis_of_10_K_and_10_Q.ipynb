{
  "cells": [
    {
      "cell_type": "markdown",
      "metadata": {
        "id": "FRUHtsizvh4r"
      },
      "source": [
        "# Final Project: Sentiment Analysis of 10-K and 10-Q"
      ]
    },
    {
      "cell_type": "markdown",
      "metadata": {
        "id": "X90fU5NTvh4v"
      },
      "source": [
        "This project ask you to perform sentiment analysis on 10-K Financial Reports.\n",
        "\n",
        "1. You are asked to pick 1 firm, download the entire history of 10-K and 10-Q financial reports from the SEC Edgar Server.\n",
        "\n",
        "2. Perform sentiment analysis on all the 10-K and 10-Q reports.\n",
        "\n",
        "3. Merge with stock return data.\n",
        "\n",
        "4. Determine if changes in negative sentiment can predict stock returns."
      ]
    },
    {
      "cell_type": "markdown",
      "metadata": {
        "id": "BxkSn3cHvh4w"
      },
      "source": [
        "## Obtain 10-K Financial Reports"
      ]
    },
    {
      "cell_type": "code",
      "execution_count": null,
      "metadata": {
        "colab": {
          "base_uri": "https://localhost:8080/"
        },
        "id": "6wNEYeIzvh4x",
        "outputId": "b8880e2c-34aa-4b32-a160-30171f059267"
      },
      "outputs": [
        {
          "output_type": "stream",
          "name": "stdout",
          "text": [
            "Requirement already satisfied: sec-edgar-downloader in /usr/local/lib/python3.10/dist-packages (5.0.2)\n",
            "Requirement already satisfied: requests in /usr/local/lib/python3.10/dist-packages (from sec-edgar-downloader) (2.31.0)\n",
            "Requirement already satisfied: pyrate-limiter>=3.1.0 in /usr/local/lib/python3.10/dist-packages (from sec-edgar-downloader) (3.1.0)\n",
            "Requirement already satisfied: charset-normalizer<4,>=2 in /usr/local/lib/python3.10/dist-packages (from requests->sec-edgar-downloader) (3.3.2)\n",
            "Requirement already satisfied: idna<4,>=2.5 in /usr/local/lib/python3.10/dist-packages (from requests->sec-edgar-downloader) (3.4)\n",
            "Requirement already satisfied: urllib3<3,>=1.21.1 in /usr/local/lib/python3.10/dist-packages (from requests->sec-edgar-downloader) (2.0.7)\n",
            "Requirement already satisfied: certifi>=2017.4.17 in /usr/local/lib/python3.10/dist-packages (from requests->sec-edgar-downloader) (2023.7.22)\n"
          ]
        }
      ],
      "source": [
        "!pip install -U sec-edgar-downloader"
      ]
    },
    {
      "cell_type": "code",
      "source": [
        "!pip install beautifulsoup4"
      ],
      "metadata": {
        "colab": {
          "base_uri": "https://localhost:8080/"
        },
        "id": "Y2t7W61kvr3D",
        "outputId": "4e59393b-a878-4e9f-e697-89e0d8493f7a"
      },
      "execution_count": null,
      "outputs": [
        {
          "output_type": "stream",
          "name": "stdout",
          "text": [
            "Requirement already satisfied: beautifulsoup4 in /usr/local/lib/python3.10/dist-packages (4.11.2)\n",
            "Requirement already satisfied: soupsieve>1.2 in /usr/local/lib/python3.10/dist-packages (from beautifulsoup4) (2.5)\n"
          ]
        }
      ]
    },
    {
      "cell_type": "code",
      "execution_count": null,
      "metadata": {
        "id": "WLnQcma4vh4y"
      },
      "outputs": [],
      "source": [
        "from sec_edgar_downloader import Downloader\n",
        "import re\n",
        "import pandas as pd\n",
        "import os, shutil\n",
        "import warnings\n",
        "import re\n",
        "import nltk\n",
        "from bs4 import BeautifulSoup\n",
        "\n",
        "from nltk.sentiment import SentimentIntensityAnalyzer\n",
        "import operator\n",
        "import statsmodels.api as sm\n",
        "\n",
        "warnings.filterwarnings('ignore')"
      ]
    },
    {
      "cell_type": "markdown",
      "source": [
        "1) You are asked to pick 1 firm, download the entire history of 10-K and 10-Q financial reports from the SEC Edgar Server."
      ],
      "metadata": {
        "id": "UPxy2iM6RrEj"
      }
    },
    {
      "cell_type": "code",
      "execution_count": null,
      "metadata": {
        "id": "fD687tNgvh4z"
      },
      "outputs": [],
      "source": [
        "downloadLocation = \"/Users/quoc/Desktop/\"\n",
        "yourEmail = \"hoaiquoc96@gmail.com\"\n",
        "yourCompany = \"personal\"\n",
        "yourStock = \"TSLA\"\n",
        "\n",
        "\n",
        "folder = downloadLocation + 'sec-edgar-filings/' + yourStock + '/10-K/'\n",
        "\n",
        "if os.path.isdir(folder):\n",
        "    shutil.rmtree(folder)\n",
        "\n",
        "dl = Downloader(yourCompany, yourEmail, downloadLocation )\n",
        "dl.get(\"10-K\", yourStock, after=\"2000-01-01\")\n",
        "\n",
        "\n",
        "\n",
        "subfolders = [ f.path for f in os.scandir(folder) if f.is_dir() ]\n",
        "for folder in subfolders:\n",
        "    temp = re.sub('(\\d{10,10}\\-)|(\\-\\d{6,6})', '', folder)\n",
        "    os.rename(folder, temp)"
      ]
    },
    {
      "cell_type": "code",
      "execution_count": null,
      "metadata": {
        "colab": {
          "base_uri": "https://localhost:8080/"
        },
        "id": "258rDlRrvh4z",
        "outputId": "1c0a7570-5f89-40a1-aa33-b284f7be1aa6"
      },
      "outputs": [
        {
          "output_type": "stream",
          "name": "stdout",
          "text": [
            "/Users/quoc/Desktop/sec-edgar-filings/TSLA/10-K/11/full-submission.txt\n",
            "-0.0016538104287525928\n"
          ]
        }
      ],
      "source": [
        "# ---- #\n",
        "infile = downloadLocation + 'sec-edgar-filings/' + yourStock + '/10-K/11/full-submission.txt'\n",
        "\n",
        "print(infile)\n",
        "with open(infile, 'r') as f:\n",
        "    file = f.read()\n",
        "\n",
        "# ---- #\n",
        "lm = pd.read_csv(\"/content/Loughran-McDonald_MasterDictionary_1993-2021.csv\")\n",
        "words2weights = {}\n",
        "\n",
        "for index, r in lm.iterrows():\n",
        "    pos_score = 1. if r['Positive'] != 0 else 0.\n",
        "    neg_score = 1. if r['Negative'] != 0 else 0.\n",
        "    sentiment_score = pos_score - neg_score\n",
        "\n",
        "    w = str(r['Word']).lower()\n",
        "    if sentiment_score:\n",
        "        words2weights[w] = sentiment_score\n",
        "\n",
        "words2weights\n",
        "# ---- #\n",
        "score = 0\n",
        "for word in words2weights:\n",
        "    matches = re.findall(word, file, re.MULTILINE)\n",
        "    score = score + len(matches)*words2weights[word]\n",
        "\n",
        "print(score/len(file))"
      ]
    },
    {
      "cell_type": "code",
      "source": [
        "import nltk\n",
        "\n",
        "# Download the vader_lexicon resource\n",
        "nltk.download('vader_lexicon')\n"
      ],
      "metadata": {
        "colab": {
          "base_uri": "https://localhost:8080/"
        },
        "id": "GnSc144nNC3k",
        "outputId": "23d971a8-c950-462b-c20c-e61038bdb73d"
      },
      "execution_count": null,
      "outputs": [
        {
          "output_type": "stream",
          "name": "stderr",
          "text": [
            "[nltk_data] Downloading package vader_lexicon to /root/nltk_data...\n"
          ]
        },
        {
          "output_type": "execute_result",
          "data": {
            "text/plain": [
              "True"
            ]
          },
          "metadata": {},
          "execution_count": 7
        }
      ]
    },
    {
      "cell_type": "code",
      "execution_count": null,
      "metadata": {
        "colab": {
          "base_uri": "https://localhost:8080/"
        },
        "id": "vyUtD2tYvh5B",
        "outputId": "560aaf7f-8214-4abe-9eb3-4957449695fe"
      },
      "outputs": [
        {
          "output_type": "stream",
          "name": "stdout",
          "text": [
            "/Users/quoc/Desktop/sec-edgar-filings/TSLA/10-K/11/full-submission.txt\n",
            "{'neg': 0.025, 'neu': 0.89, 'pos': 0.086, 'compound': 1.0}\n"
          ]
        }
      ],
      "source": [
        "from nltk.sentiment.vader import SentimentIntensityAnalyzer\n",
        "\n",
        "# ---- #\n",
        "infile = downloadLocation + 'sec-edgar-filings/' + yourStock + '/10-K/11/full-submission.txt'\n",
        "\n",
        "print(infile)\n",
        "with open(infile, 'r') as f:\n",
        "    file = f.read()\n",
        "\n",
        "analyzer = SentimentIntensityAnalyzer()\n",
        "print(analyzer.polarity_scores(file))"
      ]
    },
    {
      "cell_type": "markdown",
      "source": [
        "This project ask you to perform sentiment analysis on 10-K Financial Reports.\n",
        "\n",
        "You are asked to pick 1 firm, download the entire history of 10-K and 10-Q financial reports from the SEC Edgar Server.\n",
        "\n",
        "Perform sentiment analysis on all the 10-K and 10-Q reports.\n",
        "\n",
        "Merge with stock return data.\n",
        "\n",
        "Determine if changes in negative sentiment can predict stock returns."
      ],
      "metadata": {
        "id": "ACSY_-DE7wlP"
      }
    },
    {
      "cell_type": "markdown",
      "source": [
        "This project ask you to perform sentiment analysis on 10-K Financial Reports.\n",
        "\n",
        "You are asked to pick 1 firm, download the entire history of 10-K and 10-Q financial reports from the SEC Edgar Server."
      ],
      "metadata": {
        "id": "7eTe519f8GEH"
      }
    },
    {
      "cell_type": "code",
      "source": [
        "import os\n",
        "import re\n",
        "import pandas as pd\n",
        "import shutil\n",
        "import yfinance as yf\n",
        "from nltk.sentiment.vader import SentimentIntensityAnalyzer\n",
        "from sec_edgar_downloader import Downloader\n",
        "\n",
        "#Set your variables\n",
        "downloadLocation = \"/Users/quoc/Desktop/\"\n",
        "yourEmail = \"hoaiquoc96@gmail.com\"\n",
        "yourCompany = \"personal\"\n",
        "yourStock = \"TSLA\"  # Replace with the stock ticker of the selected company\n",
        "\n",
        "# Download 10-K and 10-Q reports\n",
        "folder_10k = downloadLocation + 'sec-edgar-filings/' + yourStock + '/10-K/'\n",
        "folder_10q = downloadLocation + 'sec-edgar-filings/' + yourStock + '/10-Q/'\n",
        "\n",
        "# Remove existing folders if they exist\n",
        "if os.path.isdir(folder_10k):\n",
        "    shutil.rmtree(folder_10k)\n",
        "\n",
        "if os.path.isdir(folder_10q):\n",
        "    shutil.rmtree(folder_10q)\n",
        "\n",
        "# Download new filings\n",
        "dl = Downloader(yourCompany, yourEmail, downloadLocation)\n",
        "dl.get(\"10-K\", yourStock, after=\"2000-01-01\")\n",
        "dl.get(\"10-Q\", yourStock, after=\"2000-01-01\")\n",
        "\n",
        "# Clean up folder names\n",
        "subfolders_10k = [f.path for f in os.scandir(folder_10k) if f.is_dir()]\n",
        "subfolders_10q = [f.path for f in os.scandir(folder_10q) if f.is_dir()]\n",
        "\n",
        "for folder in subfolders_10k + subfolders_10q:\n",
        "    temp = re.sub('(\\d{10,10}\\-)|(\\-\\d{6,6})', '', folder)\n",
        "    try:\n",
        "        shutil.move(folder, temp)\n",
        "    except OSError as e:\n",
        "        print(f\"Error while renaming {folder}: {e}\")"
      ],
      "metadata": {
        "id": "TZXEqPcx8AO-"
      },
      "execution_count": null,
      "outputs": []
    },
    {
      "cell_type": "markdown",
      "source": [
        "Perform sentiment analysis on all the 10-K and 10-Q reports.\n",
        "\n",
        "Merge with stock return data.\n",
        "\n",
        "Determine if changes in negative sentiment can predict stock returns."
      ],
      "metadata": {
        "id": "8BSjAAGe8OEl"
      }
    },
    {
      "cell_type": "code",
      "source": [
        "import os\n",
        "import re\n",
        "import pandas as pd\n",
        "import shutil\n",
        "import yfinance as yf\n",
        "from nltk.sentiment.vader import SentimentIntensityAnalyzer\n",
        "from sec_edgar_downloader import Downloader\n",
        "\n",
        "# Set your variables\n",
        "downloadLocation = \"/Users/quoc/Desktop/\"\n",
        "yourEmail = \"hoaiquoc96@gmail.com\"\n",
        "yourCompany = \"personal\"\n",
        "yourStock = \"TSLA\"  # Replace with the stock ticker of the selected company\n",
        "\n",
        "# Download 10-K and 10-Q reports\n",
        "folder_10k = downloadLocation + 'sec-edgar-filings/' + yourStock + '/10-K/'\n",
        "folder_10q = downloadLocation + 'sec-edgar-filings/' + yourStock + '/10-Q/'\n",
        "\n",
        "# Remove existing folders if they exist\n",
        "if os.path.isdir(folder_10k):\n",
        "    shutil.rmtree(folder_10k)\n",
        "\n",
        "if os.path.isdir(folder_10q):\n",
        "    shutil.rmtree(folder_10q)\n",
        "\n",
        "# Download new filings\n",
        "dl = Downloader(yourCompany, yourEmail, downloadLocation)\n",
        "dl.get(\"10-K\", yourStock, after=\"2000-01-01\")\n",
        "dl.get(\"10-Q\", yourStock, after=\"2000-01-01\")\n",
        "\n",
        "# Clean up folder names\n",
        "subfolders_10k = [f.path for f in os.scandir(folder_10k) if f.is_dir()]\n",
        "subfolders_10q = [f.path for f in os.scandir(folder_10q) if f.is_dir()]\n",
        "\n",
        "for folder in subfolders_10k + subfolders_10q:\n",
        "    temp = re.sub('(\\d{10,10}\\-)|(\\-\\d{6,6})', '', folder)\n",
        "    try:\n",
        "        shutil.move(folder, temp)\n",
        "    except OSError as e:\n",
        "        print(f\"Error while renaming {folder}: {e}\")\n",
        "\n",
        "# Fetch historical stock data using yfinance\n",
        "stock_data = yf.download(yourStock, start='2000-01-01', end='2023-01-01')\n",
        "\n",
        "# Initialize a sentiment analyzer\n",
        "analyzer = SentimentIntensityAnalyzer()\n",
        "\n",
        "# Create a DataFrame to store sentiment and stock return data\n",
        "results = []\n",
        "\n",
        "# Function to convert date strings to datetime objects\n",
        "def convert_to_datetime(date_str):\n",
        "    try:\n",
        "        return pd.to_datetime(date_str)\n",
        "    except ValueError:\n",
        "        print(f\"Invalid date string: {date_str}\")\n",
        "        return pd.NaT\n",
        "\n",
        "# Function to perform sentiment analysis on a given file\n",
        "def analyze_sentiment(file_path):\n",
        "    with open(file_path, 'r') as f:\n",
        "        file_content = f.read()\n",
        "    sentiment_scores = analyzer.polarity_scores(file_content)\n",
        "    return sentiment_scores['neg']\n",
        "\n",
        "# Iterate through 10-K and 10-Q folders\n",
        "for filing_folder in subfolders_10k + subfolders_10q:\n",
        "    # Get the latest date of the report\n",
        "    filing_date_match = re.search(r'\\d{4}-\\d{2}-\\d{2}', filing_folder)\n",
        "\n",
        "    if filing_date_match:\n",
        "        filing_date_str = filing_date_match.group()\n",
        "        filing_date = convert_to_datetime(filing_date_str)\n",
        "\n",
        "        if pd.isna(filing_date):\n",
        "            print(f\"Problematic folder: {filing_folder}\")\n",
        "            continue\n",
        "\n",
        "        # Analyze sentiment\n",
        "        file_path = os.path.join(filing_folder, 'full-submission.txt')\n",
        "        negative_sentiment = analyze_sentiment(file_path)\n",
        "\n",
        "        # Get corresponding stock return for the filing date\n",
        "        stock_return = stock_data.loc[stock_data.index <= filing_date, 'Close'].pct_change().sum()\n",
        "\n",
        "        # Append results to the list\n",
        "        results.append({\n",
        "            'Date': filing_date,\n",
        "            'Negative Sentiment': negative_sentiment,\n",
        "            'Stock Return': stock_return,\n",
        "        })\n",
        "    else:\n",
        "        # Append a placeholder result with a NaN date\n",
        "        results.append({\n",
        "            'Date': pd.NaT,\n",
        "            'Negative Sentiment': pd.NaT,\n",
        "            'Stock Return': pd.NaT,\n",
        "        })\n",
        "        print(f\"No valid date found in folder: {filing_folder}\")\n",
        "\n",
        "\n",
        "# Create a DataFrame from the results list\n",
        "results_df = pd.DataFrame(results, columns=['File', 'Negative_Sentiment'])\n",
        "\n",
        "# Extract the filing dates from the file paths\n",
        "results_df['Date'] = results_df['File'].apply(lambda x: re.search(r'(\\d{4}-\\d{2}-\\d{2})', x).group())\n",
        "results_df['Date'] = pd.to_datetime(results_df['Date'])\n",
        "\n",
        "\n",
        "# Merge sentiment and stock return data\n",
        "merged_data = pd.merge_asof(results_df.sort_values('Date'), stock_data, left_on='Date', right_index=True, direction='backward')\n",
        "\n",
        "# Print the merged data\n",
        "print(merged_data)\n",
        "\n",
        "\n"
      ],
      "metadata": {
        "colab": {
          "base_uri": "https://localhost:8080/"
        },
        "id": "lt2hXcuM5U_p",
        "outputId": "478d9a7a-f2a7-4629-9a19-23002c0f7024"
      },
      "execution_count": null,
      "outputs": [
        {
          "output_type": "stream",
          "name": "stdout",
          "text": [
            "\r[*********************100%%**********************]  1 of 1 completed\n",
            "Invalid date string: 0170-22-00\n",
            "Problematic folder: /Users/quoc/Desktop/sec-edgar-filings/TSLA/10-K/0000950170-22-000796\n",
            "Invalid date string: 4590-20-00\n",
            "Problematic folder: /Users/quoc/Desktop/sec-edgar-filings/TSLA/10-K/0001564590-20-004475\n",
            "Invalid date string: 3125-11-05\n",
            "Problematic folder: /Users/quoc/Desktop/sec-edgar-filings/TSLA/10-K/0001193125-11-054847\n",
            "Invalid date string: 3125-13-09\n",
            "Problematic folder: /Users/quoc/Desktop/sec-edgar-filings/TSLA/10-K/0001193125-13-096241\n",
            "Invalid date string: 3125-12-08\n",
            "Problematic folder: /Users/quoc/Desktop/sec-edgar-filings/TSLA/10-K/0001193125-12-081990\n",
            "Invalid date string: 0170-23-00\n",
            "Problematic folder: /Users/quoc/Desktop/sec-edgar-filings/TSLA/10-K/0000950170-23-001409\n",
            "Invalid date string: 4590-18-00\n",
            "Problematic folder: /Users/quoc/Desktop/sec-edgar-filings/TSLA/10-K/0001564590-18-002956\n",
            "Invalid date string: 4590-16-01\n",
            "Problematic folder: /Users/quoc/Desktop/sec-edgar-filings/TSLA/10-K/0001564590-16-013195\n",
            "Invalid date string: 4590-17-00\n",
            "Problematic folder: /Users/quoc/Desktop/sec-edgar-filings/TSLA/10-K/0001564590-17-003118\n",
            "Invalid date string: 4590-15-00\n",
            "Problematic folder: /Users/quoc/Desktop/sec-edgar-filings/TSLA/10-K/0001564590-15-001031\n",
            "Invalid date string: 4590-21-00\n",
            "Problematic folder: /Users/quoc/Desktop/sec-edgar-filings/TSLA/10-K/0001564590-21-004599\n",
            "Invalid date string: 3125-14-06\n",
            "Problematic folder: /Users/quoc/Desktop/sec-edgar-filings/TSLA/10-K/0001193125-14-069681\n",
            "Invalid date string: 4590-19-00\n",
            "Problematic folder: /Users/quoc/Desktop/sec-edgar-filings/TSLA/10-K/0001564590-19-003165\n",
            "Invalid date string: 3125-14-40\n",
            "Problematic folder: /Users/quoc/Desktop/sec-edgar-filings/TSLA/10-Q/0001193125-14-403635\n",
            "Invalid date string: 4590-15-00\n",
            "Problematic folder: /Users/quoc/Desktop/sec-edgar-filings/TSLA/10-Q/0001564590-15-009741\n",
            "Invalid date string: 3125-11-30\n",
            "Problematic folder: /Users/quoc/Desktop/sec-edgar-filings/TSLA/10-Q/0001193125-11-308489\n",
            "Invalid date string: 0170-23-03\n",
            "Problematic folder: /Users/quoc/Desktop/sec-edgar-filings/TSLA/10-Q/0000950170-23-033872\n",
            "Invalid date string: 3125-12-45\n",
            "Problematic folder: /Users/quoc/Desktop/sec-edgar-filings/TSLA/10-Q/0001193125-12-457610\n",
            "Invalid date string: 3125-13-32\n",
            "Problematic folder: /Users/quoc/Desktop/sec-edgar-filings/TSLA/10-Q/0001193125-13-327916\n",
            "Invalid date string: 4590-20-03\n",
            "Problematic folder: /Users/quoc/Desktop/sec-edgar-filings/TSLA/10-Q/0001564590-20-033670\n",
            "Invalid date string: 4590-19-03\n",
            "Problematic folder: /Users/quoc/Desktop/sec-edgar-filings/TSLA/10-Q/0001564590-19-038256\n",
            "Invalid date string: 0170-21-00\n",
            "Problematic folder: /Users/quoc/Desktop/sec-edgar-filings/TSLA/10-Q/0000950170-21-000046\n",
            "Invalid date string: 8280-23-03\n",
            "Problematic folder: /Users/quoc/Desktop/sec-edgar-filings/TSLA/10-Q/0001628280-23-034847\n",
            "Invalid date string: 0170-22-00\n",
            "Problematic folder: /Users/quoc/Desktop/sec-edgar-filings/TSLA/10-Q/0000950170-22-006034\n",
            "Invalid date string: 4590-17-00\n",
            "Problematic folder: /Users/quoc/Desktop/sec-edgar-filings/TSLA/10-Q/0001564590-17-009968\n",
            "Invalid date string: 4590-20-04\n",
            "Problematic folder: /Users/quoc/Desktop/sec-edgar-filings/TSLA/10-Q/0001564590-20-047486\n",
            "Invalid date string: 4590-16-02\n",
            "Problematic folder: /Users/quoc/Desktop/sec-edgar-filings/TSLA/10-Q/0001564590-16-026820\n",
            "Invalid date string: 4590-17-01\n",
            "Problematic folder: /Users/quoc/Desktop/sec-edgar-filings/TSLA/10-Q/0001564590-17-015705\n",
            "Invalid date string: 4590-19-02\n",
            "Problematic folder: /Users/quoc/Desktop/sec-edgar-filings/TSLA/10-Q/0001564590-19-026445\n",
            "Invalid date string: 0170-21-00\n",
            "Problematic folder: /Users/quoc/Desktop/sec-edgar-filings/TSLA/10-Q/0000950170-21-000524\n",
            "Invalid date string: 3125-14-19\n",
            "Problematic folder: /Users/quoc/Desktop/sec-edgar-filings/TSLA/10-Q/0001193125-14-192606\n",
            "Invalid date string: 3125-14-30\n",
            "Problematic folder: /Users/quoc/Desktop/sec-edgar-filings/TSLA/10-Q/0001193125-14-303175\n",
            "Invalid date string: 4590-18-01\n",
            "Problematic folder: /Users/quoc/Desktop/sec-edgar-filings/TSLA/10-Q/0001564590-18-019254\n",
            "Invalid date string: 4590-17-02\n",
            "Problematic folder: /Users/quoc/Desktop/sec-edgar-filings/TSLA/10-Q/0001564590-17-021343\n",
            "Invalid date string: 4590-18-01\n",
            "Problematic folder: /Users/quoc/Desktop/sec-edgar-filings/TSLA/10-Q/0001564590-18-011086\n",
            "Invalid date string: 3125-12-33\n",
            "Problematic folder: /Users/quoc/Desktop/sec-edgar-filings/TSLA/10-Q/0001193125-12-332138\n",
            "Invalid date string: 4590-16-02\n",
            "Problematic folder: /Users/quoc/Desktop/sec-edgar-filings/TSLA/10-Q/0001564590-16-023024\n",
            "Invalid date string: 4590-15-00\n",
            "Problematic folder: /Users/quoc/Desktop/sec-edgar-filings/TSLA/10-Q/0001564590-15-006666\n",
            "Invalid date string: 0170-22-01\n",
            "Problematic folder: /Users/quoc/Desktop/sec-edgar-filings/TSLA/10-Q/0000950170-22-019867\n",
            "Invalid date string: 3125-13-21\n",
            "Problematic folder: /Users/quoc/Desktop/sec-edgar-filings/TSLA/10-Q/0001193125-13-212354\n",
            "Invalid date string: 3125-10-25\n",
            "Problematic folder: /Users/quoc/Desktop/sec-edgar-filings/TSLA/10-Q/0001193125-10-259068\n",
            "Invalid date string: 4590-16-01\n",
            "Problematic folder: /Users/quoc/Desktop/sec-edgar-filings/TSLA/10-Q/0001564590-16-018886\n",
            "Invalid date string: 0170-22-01\n",
            "Problematic folder: /Users/quoc/Desktop/sec-edgar-filings/TSLA/10-Q/0000950170-22-012936\n",
            "Invalid date string: 3125-13-43\n",
            "Problematic folder: /Users/quoc/Desktop/sec-edgar-filings/TSLA/10-Q/0001193125-13-435480\n",
            "Invalid date string: 0170-21-00\n",
            "Problematic folder: /Users/quoc/Desktop/sec-edgar-filings/TSLA/10-Q/0000950170-21-002253\n",
            "Invalid date string: 4590-19-01\n",
            "Problematic folder: /Users/quoc/Desktop/sec-edgar-filings/TSLA/10-Q/0001564590-19-013462\n",
            "Invalid date string: 4590-20-01\n",
            "Problematic folder: /Users/quoc/Desktop/sec-edgar-filings/TSLA/10-Q/0001564590-20-019931\n",
            "Invalid date string: 4590-18-02\n",
            "Problematic folder: /Users/quoc/Desktop/sec-edgar-filings/TSLA/10-Q/0001564590-18-026353\n",
            "Invalid date string: 3125-11-22\n",
            "Problematic folder: /Users/quoc/Desktop/sec-edgar-filings/TSLA/10-Q/0001193125-11-221497\n",
            "Invalid date string: 3125-11-13\n",
            "Problematic folder: /Users/quoc/Desktop/sec-edgar-filings/TSLA/10-Q/0001193125-11-139677\n",
            "Invalid date string: 0170-23-01\n",
            "Problematic folder: /Users/quoc/Desktop/sec-edgar-filings/TSLA/10-Q/0000950170-23-013890\n",
            "Invalid date string: 3125-10-18\n",
            "Problematic folder: /Users/quoc/Desktop/sec-edgar-filings/TSLA/10-Q/0001193125-10-188792\n",
            "Invalid date string: 4590-15-00\n",
            "Problematic folder: /Users/quoc/Desktop/sec-edgar-filings/TSLA/10-Q/0001564590-15-003789\n",
            "Invalid date string: 3125-12-22\n",
            "Problematic folder: /Users/quoc/Desktop/sec-edgar-filings/TSLA/10-Q/0001193125-12-225825\n",
            "Empty DataFrame\n",
            "Columns: [File, Negative_Sentiment, Date, Open, High, Low, Close, Adj Close, Volume]\n",
            "Index: []\n"
          ]
        }
      ]
    },
    {
      "cell_type": "markdown",
      "metadata": {
        "id": "X6wFSZwRvh5B"
      },
      "source": [
        "## Analysis\n",
        "\n",
        "* Run tests to examine whether changes in sentiment predicts future stock returns.\n",
        "\n",
        "    * Cumulative 5 days, 10 days, 1 month returns\n",
        "    \n",
        "    * Negative sentiment vs positive sentiment vs overall sentiment\n",
        "        "
      ]
    },
    {
      "cell_type": "code",
      "source": [
        "from nltk.sentiment.vader import SentimentIntensityAnalyzer\n",
        "import pandas as pd\n",
        "import yfinance as yf"
      ],
      "metadata": {
        "id": "bqpIvVr0vGj4"
      },
      "execution_count": null,
      "outputs": []
    },
    {
      "cell_type": "code",
      "source": [
        "yourStock = 'TSLA'\n",
        "downloadLocation = '/Users/quoc/Desktop/'\n",
        "\n",
        "# Read the text file\n",
        "infile = downloadLocation + 'sec-edgar-filings/' + yourStock + '/10-K/11/full-submission.txt'\n",
        "with open(infile, 'r') as f:\n",
        "    file = f.read()\n",
        "\n",
        "# Perform sentiment analysis\n",
        "analyzer = SentimentIntensityAnalyzer()\n",
        "sentiment_scores = analyzer.polarity_scores(file)\n"
      ],
      "metadata": {
        "id": "LuIaUeSnvpw6"
      },
      "execution_count": null,
      "outputs": []
    },
    {
      "cell_type": "code",
      "source": [
        "# current stock data\n",
        "stock_data = yf.download(yourStock, start='2000-01-01', end='2023-01-01')\n",
        "\n"
      ],
      "metadata": {
        "colab": {
          "base_uri": "https://localhost:8080/"
        },
        "id": "Ttj0wUiHvvEm",
        "outputId": "fbcb575b-d8d1-496e-c4aa-e8502edd6aa1"
      },
      "execution_count": null,
      "outputs": [
        {
          "output_type": "stream",
          "name": "stdout",
          "text": [
            "\r[*********************100%%**********************]  1 of 1 completed\n"
          ]
        }
      ]
    },
    {
      "cell_type": "markdown",
      "source": [
        "1) Cumulative 5 days, 10 days, 1 month\n",
        "\n",
        "2) Negative sentiment vs positive sentiment vs overall sentiment"
      ],
      "metadata": {
        "id": "QUIL8r9hwQOA"
      }
    },
    {
      "cell_type": "code",
      "source": [
        "returns_5_days = stock_data['Close'].pct_change().rolling(window=5).sum()\n",
        "returns_10_days = stock_data['Close'].pct_change().rolling(window=10).sum()\n",
        "returns_1_month = stock_data['Close'].pct_change().rolling(window=20).sum()\n",
        "\n",
        "# Combine sentiment scores and stock returns\n",
        "data = {'Negative Sentiment': [sentiment_scores['neg']],\n",
        "        'Positive Sentiment': [sentiment_scores['pos']],\n",
        "        'Overall Sentiment': [sentiment_scores['compound']],\n",
        "        'Cumulative Returns 5 Days': [returns_5_days[-1]],\n",
        "        'Cumulative Returns 10 Days': [returns_10_days[-1]],\n",
        "        'Cumulative Returns 1 Month': [returns_1_month[-1]]}\n",
        "\n",
        "result_df = pd.DataFrame(data)\n",
        "\n",
        "\n",
        "# Print the results as a Markdown table\n",
        "print(result_df.to_markdown(index=False))"
      ],
      "metadata": {
        "colab": {
          "base_uri": "https://localhost:8080/"
        },
        "id": "mUB1_K07wSN7",
        "outputId": "823ac24b-98d5-4353-8dbe-1490d13f5541"
      },
      "execution_count": null,
      "outputs": [
        {
          "output_type": "stream",
          "name": "stdout",
          "text": [
            "|   Negative Sentiment |   Positive Sentiment |   Overall Sentiment |   Cumulative Returns 5 Days |   Cumulative Returns 10 Days |   Cumulative Returns 1 Month |\n",
            "|---------------------:|---------------------:|--------------------:|----------------------------:|-----------------------------:|-----------------------------:|\n",
            "|                0.025 |                0.086 |                   1 |                 -0.00655953 |                    -0.227176 |                    -0.431594 |\n"
          ]
        }
      ]
    },
    {
      "cell_type": "code",
      "execution_count": null,
      "metadata": {
        "id": "3NAY3jiKvh5C",
        "colab": {
          "base_uri": "https://localhost:8080/"
        },
        "outputId": "7fd9140f-751e-4b0b-ed06-1ba9d6e3132e"
      },
      "outputs": [
        {
          "output_type": "stream",
          "name": "stdout",
          "text": [
            "/Users/quoc/Desktop/sec-edgar-filings/TSLA/10-K/11/full-submission.txt\n",
            "20110303\n",
            "/Users/quoc/Desktop/sec-edgar-filings/TSLA/10-K/12/full-submission.txt\n",
            "20120227\n"
          ]
        }
      ],
      "source": [
        "import pandas as pd\n",
        "data10K = pd.DataFrame(columns = ['date', 'sentiment_neg', 'sentiment_neu', 'sentiment_pos', 'infile'])\n",
        "\n",
        "for year in range(11, 13):\n",
        "    infile = downloadLocation + 'sec-edgar-filings/' + yourStock + '/10-K/' + str(year)+ '/full-submission.txt'\n",
        "\n",
        "    print(infile)\n",
        "    with open(infile, 'r') as f:\n",
        "        file = f.read()\n",
        "\n",
        "    analyzer = SentimentIntensityAnalyzer()\n",
        "    soup = BeautifulSoup(file)\n",
        "    scores = analyzer.polarity_scores(soup.text)\n",
        "\n",
        "    date = re.findall('FILED AS OF DATE:\\s*(\\d+)', file, re.MULTILINE)\n",
        "    print(date[0])\n",
        "\n",
        "    data10K = data10K.append({'date': date[0], 'sentiment_neg': scores['neg'], 'sentiment_neu': scores['neu'], 'sentiment_pos': scores['pos'], 'infile': infile}, ignore_index = True)\n",
        "    #data10K = data10K.append({'sentiment_score': score}, ignore_index = True)"
      ]
    },
    {
      "cell_type": "code",
      "execution_count": null,
      "metadata": {
        "id": "EDtcwMvvvh5C",
        "colab": {
          "base_uri": "https://localhost:8080/",
          "height": 112
        },
        "outputId": "9a2e4991-71d4-4af8-e595-7ec414fddb42"
      },
      "outputs": [
        {
          "output_type": "execute_result",
          "data": {
            "text/plain": [
              "       date  sentiment_neg  sentiment_neu  sentiment_pos  \\\n",
              "0  20110303          0.042          0.827          0.130   \n",
              "1  20120227          0.030          0.858          0.112   \n",
              "\n",
              "                                              infile  \n",
              "0  /Users/quoc/Desktop/sec-edgar-filings/TSLA/10-...  \n",
              "1  /Users/quoc/Desktop/sec-edgar-filings/TSLA/10-...  "
            ],
            "text/html": [
              "\n",
              "  <div id=\"df-82bc2f6c-2326-4820-82b4-5651042caed6\" class=\"colab-df-container\">\n",
              "    <div>\n",
              "<style scoped>\n",
              "    .dataframe tbody tr th:only-of-type {\n",
              "        vertical-align: middle;\n",
              "    }\n",
              "\n",
              "    .dataframe tbody tr th {\n",
              "        vertical-align: top;\n",
              "    }\n",
              "\n",
              "    .dataframe thead th {\n",
              "        text-align: right;\n",
              "    }\n",
              "</style>\n",
              "<table border=\"1\" class=\"dataframe\">\n",
              "  <thead>\n",
              "    <tr style=\"text-align: right;\">\n",
              "      <th></th>\n",
              "      <th>date</th>\n",
              "      <th>sentiment_neg</th>\n",
              "      <th>sentiment_neu</th>\n",
              "      <th>sentiment_pos</th>\n",
              "      <th>infile</th>\n",
              "    </tr>\n",
              "  </thead>\n",
              "  <tbody>\n",
              "    <tr>\n",
              "      <th>0</th>\n",
              "      <td>20110303</td>\n",
              "      <td>0.042</td>\n",
              "      <td>0.827</td>\n",
              "      <td>0.130</td>\n",
              "      <td>/Users/quoc/Desktop/sec-edgar-filings/TSLA/10-...</td>\n",
              "    </tr>\n",
              "    <tr>\n",
              "      <th>1</th>\n",
              "      <td>20120227</td>\n",
              "      <td>0.030</td>\n",
              "      <td>0.858</td>\n",
              "      <td>0.112</td>\n",
              "      <td>/Users/quoc/Desktop/sec-edgar-filings/TSLA/10-...</td>\n",
              "    </tr>\n",
              "  </tbody>\n",
              "</table>\n",
              "</div>\n",
              "    <div class=\"colab-df-buttons\">\n",
              "\n",
              "  <div class=\"colab-df-container\">\n",
              "    <button class=\"colab-df-convert\" onclick=\"convertToInteractive('df-82bc2f6c-2326-4820-82b4-5651042caed6')\"\n",
              "            title=\"Convert this dataframe to an interactive table.\"\n",
              "            style=\"display:none;\">\n",
              "\n",
              "  <svg xmlns=\"http://www.w3.org/2000/svg\" height=\"24px\" viewBox=\"0 -960 960 960\">\n",
              "    <path d=\"M120-120v-720h720v720H120Zm60-500h600v-160H180v160Zm220 220h160v-160H400v160Zm0 220h160v-160H400v160ZM180-400h160v-160H180v160Zm440 0h160v-160H620v160ZM180-180h160v-160H180v160Zm440 0h160v-160H620v160Z\"/>\n",
              "  </svg>\n",
              "    </button>\n",
              "\n",
              "  <style>\n",
              "    .colab-df-container {\n",
              "      display:flex;\n",
              "      gap: 12px;\n",
              "    }\n",
              "\n",
              "    .colab-df-convert {\n",
              "      background-color: #E8F0FE;\n",
              "      border: none;\n",
              "      border-radius: 50%;\n",
              "      cursor: pointer;\n",
              "      display: none;\n",
              "      fill: #1967D2;\n",
              "      height: 32px;\n",
              "      padding: 0 0 0 0;\n",
              "      width: 32px;\n",
              "    }\n",
              "\n",
              "    .colab-df-convert:hover {\n",
              "      background-color: #E2EBFA;\n",
              "      box-shadow: 0px 1px 2px rgba(60, 64, 67, 0.3), 0px 1px 3px 1px rgba(60, 64, 67, 0.15);\n",
              "      fill: #174EA6;\n",
              "    }\n",
              "\n",
              "    .colab-df-buttons div {\n",
              "      margin-bottom: 4px;\n",
              "    }\n",
              "\n",
              "    [theme=dark] .colab-df-convert {\n",
              "      background-color: #3B4455;\n",
              "      fill: #D2E3FC;\n",
              "    }\n",
              "\n",
              "    [theme=dark] .colab-df-convert:hover {\n",
              "      background-color: #434B5C;\n",
              "      box-shadow: 0px 1px 3px 1px rgba(0, 0, 0, 0.15);\n",
              "      filter: drop-shadow(0px 1px 2px rgba(0, 0, 0, 0.3));\n",
              "      fill: #FFFFFF;\n",
              "    }\n",
              "  </style>\n",
              "\n",
              "    <script>\n",
              "      const buttonEl =\n",
              "        document.querySelector('#df-82bc2f6c-2326-4820-82b4-5651042caed6 button.colab-df-convert');\n",
              "      buttonEl.style.display =\n",
              "        google.colab.kernel.accessAllowed ? 'block' : 'none';\n",
              "\n",
              "      async function convertToInteractive(key) {\n",
              "        const element = document.querySelector('#df-82bc2f6c-2326-4820-82b4-5651042caed6');\n",
              "        const dataTable =\n",
              "          await google.colab.kernel.invokeFunction('convertToInteractive',\n",
              "                                                    [key], {});\n",
              "        if (!dataTable) return;\n",
              "\n",
              "        const docLinkHtml = 'Like what you see? Visit the ' +\n",
              "          '<a target=\"_blank\" href=https://colab.research.google.com/notebooks/data_table.ipynb>data table notebook</a>'\n",
              "          + ' to learn more about interactive tables.';\n",
              "        element.innerHTML = '';\n",
              "        dataTable['output_type'] = 'display_data';\n",
              "        await google.colab.output.renderOutput(dataTable, element);\n",
              "        const docLink = document.createElement('div');\n",
              "        docLink.innerHTML = docLinkHtml;\n",
              "        element.appendChild(docLink);\n",
              "      }\n",
              "    </script>\n",
              "  </div>\n",
              "\n",
              "\n",
              "<div id=\"df-c72b06e5-d0bf-4b6e-ac37-c9c21ba881ef\">\n",
              "  <button class=\"colab-df-quickchart\" onclick=\"quickchart('df-c72b06e5-d0bf-4b6e-ac37-c9c21ba881ef')\"\n",
              "            title=\"Suggest charts\"\n",
              "            style=\"display:none;\">\n",
              "\n",
              "<svg xmlns=\"http://www.w3.org/2000/svg\" height=\"24px\"viewBox=\"0 0 24 24\"\n",
              "     width=\"24px\">\n",
              "    <g>\n",
              "        <path d=\"M19 3H5c-1.1 0-2 .9-2 2v14c0 1.1.9 2 2 2h14c1.1 0 2-.9 2-2V5c0-1.1-.9-2-2-2zM9 17H7v-7h2v7zm4 0h-2V7h2v10zm4 0h-2v-4h2v4z\"/>\n",
              "    </g>\n",
              "</svg>\n",
              "  </button>\n",
              "\n",
              "<style>\n",
              "  .colab-df-quickchart {\n",
              "      --bg-color: #E8F0FE;\n",
              "      --fill-color: #1967D2;\n",
              "      --hover-bg-color: #E2EBFA;\n",
              "      --hover-fill-color: #174EA6;\n",
              "      --disabled-fill-color: #AAA;\n",
              "      --disabled-bg-color: #DDD;\n",
              "  }\n",
              "\n",
              "  [theme=dark] .colab-df-quickchart {\n",
              "      --bg-color: #3B4455;\n",
              "      --fill-color: #D2E3FC;\n",
              "      --hover-bg-color: #434B5C;\n",
              "      --hover-fill-color: #FFFFFF;\n",
              "      --disabled-bg-color: #3B4455;\n",
              "      --disabled-fill-color: #666;\n",
              "  }\n",
              "\n",
              "  .colab-df-quickchart {\n",
              "    background-color: var(--bg-color);\n",
              "    border: none;\n",
              "    border-radius: 50%;\n",
              "    cursor: pointer;\n",
              "    display: none;\n",
              "    fill: var(--fill-color);\n",
              "    height: 32px;\n",
              "    padding: 0;\n",
              "    width: 32px;\n",
              "  }\n",
              "\n",
              "  .colab-df-quickchart:hover {\n",
              "    background-color: var(--hover-bg-color);\n",
              "    box-shadow: 0 1px 2px rgba(60, 64, 67, 0.3), 0 1px 3px 1px rgba(60, 64, 67, 0.15);\n",
              "    fill: var(--button-hover-fill-color);\n",
              "  }\n",
              "\n",
              "  .colab-df-quickchart-complete:disabled,\n",
              "  .colab-df-quickchart-complete:disabled:hover {\n",
              "    background-color: var(--disabled-bg-color);\n",
              "    fill: var(--disabled-fill-color);\n",
              "    box-shadow: none;\n",
              "  }\n",
              "\n",
              "  .colab-df-spinner {\n",
              "    border: 2px solid var(--fill-color);\n",
              "    border-color: transparent;\n",
              "    border-bottom-color: var(--fill-color);\n",
              "    animation:\n",
              "      spin 1s steps(1) infinite;\n",
              "  }\n",
              "\n",
              "  @keyframes spin {\n",
              "    0% {\n",
              "      border-color: transparent;\n",
              "      border-bottom-color: var(--fill-color);\n",
              "      border-left-color: var(--fill-color);\n",
              "    }\n",
              "    20% {\n",
              "      border-color: transparent;\n",
              "      border-left-color: var(--fill-color);\n",
              "      border-top-color: var(--fill-color);\n",
              "    }\n",
              "    30% {\n",
              "      border-color: transparent;\n",
              "      border-left-color: var(--fill-color);\n",
              "      border-top-color: var(--fill-color);\n",
              "      border-right-color: var(--fill-color);\n",
              "    }\n",
              "    40% {\n",
              "      border-color: transparent;\n",
              "      border-right-color: var(--fill-color);\n",
              "      border-top-color: var(--fill-color);\n",
              "    }\n",
              "    60% {\n",
              "      border-color: transparent;\n",
              "      border-right-color: var(--fill-color);\n",
              "    }\n",
              "    80% {\n",
              "      border-color: transparent;\n",
              "      border-right-color: var(--fill-color);\n",
              "      border-bottom-color: var(--fill-color);\n",
              "    }\n",
              "    90% {\n",
              "      border-color: transparent;\n",
              "      border-bottom-color: var(--fill-color);\n",
              "    }\n",
              "  }\n",
              "</style>\n",
              "\n",
              "  <script>\n",
              "    async function quickchart(key) {\n",
              "      const quickchartButtonEl =\n",
              "        document.querySelector('#' + key + ' button');\n",
              "      quickchartButtonEl.disabled = true;  // To prevent multiple clicks.\n",
              "      quickchartButtonEl.classList.add('colab-df-spinner');\n",
              "      try {\n",
              "        const charts = await google.colab.kernel.invokeFunction(\n",
              "            'suggestCharts', [key], {});\n",
              "      } catch (error) {\n",
              "        console.error('Error during call to suggestCharts:', error);\n",
              "      }\n",
              "      quickchartButtonEl.classList.remove('colab-df-spinner');\n",
              "      quickchartButtonEl.classList.add('colab-df-quickchart-complete');\n",
              "    }\n",
              "    (() => {\n",
              "      let quickchartButtonEl =\n",
              "        document.querySelector('#df-c72b06e5-d0bf-4b6e-ac37-c9c21ba881ef button');\n",
              "      quickchartButtonEl.style.display =\n",
              "        google.colab.kernel.accessAllowed ? 'block' : 'none';\n",
              "    })();\n",
              "  </script>\n",
              "</div>\n",
              "    </div>\n",
              "  </div>\n"
            ]
          },
          "metadata": {},
          "execution_count": 16
        }
      ],
      "source": [
        "data10K"
      ]
    }
  ],
  "metadata": {
    "kernelspec": {
      "display_name": "Python 3",
      "name": "python3"
    },
    "language_info": {
      "codemirror_mode": {
        "name": "ipython",
        "version": 3
      },
      "file_extension": ".py",
      "mimetype": "text/x-python",
      "name": "python",
      "nbconvert_exporter": "python",
      "pygments_lexer": "ipython3",
      "version": "3.10.9"
    },
    "vscode": {
      "interpreter": {
        "hash": "31f2aee4e71d21fbe5cf8b01ff0e069b9275f58929596ceb00d14d90e3e16cd6"
      }
    },
    "colab": {
      "provenance": [],
      "gpuType": "T4"
    },
    "accelerator": "GPU"
  },
  "nbformat": 4,
  "nbformat_minor": 0
}